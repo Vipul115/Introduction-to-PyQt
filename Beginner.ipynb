{
 "cells": [
  {
   "cell_type": "code",
   "execution_count": 1,
   "metadata": {
    "collapsed": true
   },
   "outputs": [],
   "source": [
    "import sys\n",
    "from PyQt5 import QtWidgets,QtGui\n",
    "from PyQt5 import QtCore\n",
    "import pandas as pd\n",
    "import numpy as np"
   ]
  },
  {
   "cell_type": "code",
   "execution_count": 2,
   "metadata": {},
   "outputs": [
    {
     "data": {
      "text/html": [
       "<div>\n",
       "<style>\n",
       "    .dataframe thead tr:only-child th {\n",
       "        text-align: right;\n",
       "    }\n",
       "\n",
       "    .dataframe thead th {\n",
       "        text-align: left;\n",
       "    }\n",
       "\n",
       "    .dataframe tbody tr th {\n",
       "        vertical-align: top;\n",
       "    }\n",
       "</style>\n",
       "<table border=\"1\" class=\"dataframe\">\n",
       "  <thead>\n",
       "    <tr style=\"text-align: right;\">\n",
       "      <th></th>\n",
       "      <th>description</th>\n",
       "      <th>period</th>\n",
       "      <th>short_desc</th>\n",
       "      <th>temperature</th>\n",
       "    </tr>\n",
       "  </thead>\n",
       "  <tbody>\n",
       "    <tr>\n",
       "      <th>0</th>\n",
       "      <td>NaN</td>\n",
       "      <td>NOW until further notice</td>\n",
       "      <td>Tsunami Watch</td>\n",
       "      <td></td>\n",
       "    </tr>\n",
       "    <tr>\n",
       "      <th>1</th>\n",
       "      <td>Overnight: Mostly cloudy, with a low around 47...</td>\n",
       "      <td>Overnight</td>\n",
       "      <td>Mostly Cloudy</td>\n",
       "      <td>Low: 47 °F</td>\n",
       "    </tr>\n",
       "    <tr>\n",
       "      <th>2</th>\n",
       "      <td>Tuesday: Partly sunny, with a high near 55. Ca...</td>\n",
       "      <td>Tuesday</td>\n",
       "      <td>Partly Sunny</td>\n",
       "      <td>High: 55 °F</td>\n",
       "    </tr>\n",
       "    <tr>\n",
       "      <th>3</th>\n",
       "      <td>Tuesday Night: Mostly cloudy, with a low aroun...</td>\n",
       "      <td>TuesdayNight</td>\n",
       "      <td>Mostly Cloudy</td>\n",
       "      <td>Low: 48 °F</td>\n",
       "    </tr>\n",
       "    <tr>\n",
       "      <th>4</th>\n",
       "      <td>Wednesday: Rain, mainly after 10am.  High near...</td>\n",
       "      <td>Wednesday</td>\n",
       "      <td>Rain</td>\n",
       "      <td>High: 56 °F</td>\n",
       "    </tr>\n",
       "    <tr>\n",
       "      <th>5</th>\n",
       "      <td>Wednesday Night: Rain likely before 10pm, then...</td>\n",
       "      <td>WednesdayNight</td>\n",
       "      <td>Rain Likely</td>\n",
       "      <td>Low: 48 °F</td>\n",
       "    </tr>\n",
       "    <tr>\n",
       "      <th>6</th>\n",
       "      <td>Thursday: A 30 percent chance of showers.  Par...</td>\n",
       "      <td>Thursday</td>\n",
       "      <td>ChanceShowers</td>\n",
       "      <td>High: 54 °F</td>\n",
       "    </tr>\n",
       "    <tr>\n",
       "      <th>7</th>\n",
       "      <td>Thursday Night: A 20 percent chance of showers...</td>\n",
       "      <td>ThursdayNight</td>\n",
       "      <td>Slight ChanceShowers</td>\n",
       "      <td>Low: 47 °F</td>\n",
       "    </tr>\n",
       "    <tr>\n",
       "      <th>8</th>\n",
       "      <td>Friday: Partly sunny, with a high near 54.</td>\n",
       "      <td>Friday</td>\n",
       "      <td>Partly Sunny</td>\n",
       "      <td>High: 54 °F</td>\n",
       "    </tr>\n",
       "  </tbody>\n",
       "</table>\n",
       "</div>"
      ],
      "text/plain": [
       "                                         description  \\\n",
       "0                                                NaN   \n",
       "1  Overnight: Mostly cloudy, with a low around 47...   \n",
       "2  Tuesday: Partly sunny, with a high near 55. Ca...   \n",
       "3  Tuesday Night: Mostly cloudy, with a low aroun...   \n",
       "4  Wednesday: Rain, mainly after 10am.  High near...   \n",
       "5  Wednesday Night: Rain likely before 10pm, then...   \n",
       "6  Thursday: A 30 percent chance of showers.  Par...   \n",
       "7  Thursday Night: A 20 percent chance of showers...   \n",
       "8         Friday: Partly sunny, with a high near 54.   \n",
       "\n",
       "                     period            short_desc  temperature  \n",
       "0  NOW until further notice         Tsunami Watch               \n",
       "1                 Overnight         Mostly Cloudy   Low: 47 °F  \n",
       "2                   Tuesday          Partly Sunny  High: 55 °F  \n",
       "3              TuesdayNight         Mostly Cloudy   Low: 48 °F  \n",
       "4                 Wednesday                  Rain  High: 56 °F  \n",
       "5            WednesdayNight           Rain Likely   Low: 48 °F  \n",
       "6                  Thursday         ChanceShowers  High: 54 °F  \n",
       "7             ThursdayNight  Slight ChanceShowers   Low: 47 °F  \n",
       "8                    Friday          Partly Sunny  High: 54 °F  "
      ]
     },
     "execution_count": 2,
     "metadata": {},
     "output_type": "execute_result"
    }
   ],
   "source": [
    "df = pd.read_csv('info1.csv', encoding = 'ISO-8859-1')\n",
    "df.drop('Unnamed: 0', axis = 1, inplace = True)\n",
    "df\n",
    "#len(df['period'])\n",
    "# type(df['period'])"
   ]
  },
  {
   "cell_type": "code",
   "execution_count": null,
   "metadata": {
    "collapsed": true
   },
   "outputs": [],
   "source": [
    "\n",
    "\n"
   ]
  },
  {
   "cell_type": "code",
   "execution_count": 3,
   "metadata": {},
   "outputs": [
    {
     "ename": "SystemExit",
     "evalue": "0",
     "output_type": "error",
     "traceback": [
      "An exception has occurred, use %tb to see the full traceback.\n",
      "\u001b[1;31mSystemExit\u001b[0m\u001b[1;31m:\u001b[0m 0\n"
     ]
    },
    {
     "name": "stderr",
     "output_type": "stream",
     "text": [
      "C:\\Anaconda\\lib\\site-packages\\IPython\\core\\interactiveshell.py:2870: UserWarning: To exit: use 'exit', 'quit', or Ctrl-D.\n",
      "  warn(\"To exit: use 'exit', 'quit', or Ctrl-D.\", stacklevel=1)\n"
     ]
    }
   ],
   "source": [
    "class Windows(QtWidgets.QMainWindow):\n",
    "    def __init__(self):\n",
    "        super().__init__()\n",
    "        self.setGeometry(100,100,200,200)\n",
    "        \n",
    "        b1 = QtWidgets.QPushButton('Quit',self)\n",
    "        self.setWindowTitle('Weather Forecast')\n",
    "        \n",
    "        periods1 = QtWidgets.QLabel(df['period'][0],self)\n",
    "        periods1.move(90,90)\n",
    "        periods2 = QtWidgets.QLabel(df['period'][1],self)\n",
    "        periods3 = QtWidgets.QLabel(df['period'][2],self)\n",
    "        periods4 = QtWidgets.QLabel(df['period'][3],self)\n",
    "        periods5 = QtWidgets.QLabel(df['period'][4],self)\n",
    "        periods6 = QtWidgets.QLabel(df['period'][5],self)\n",
    "        periods7 = QtWidgets.QLabel(df['period'][6],self)\n",
    "        periods8 = QtWidgets.QLabel(df['period'][7],self)\n",
    "        \n",
    "        \n",
    "        temp1 = QtWidgets.QLabel(df['temperature'][0],self)\n",
    "        temp2 = QtWidgets.QLabel(df['temperature'][1],self)\n",
    "        temp3 = QtWidgets.QLabel(df['temperature'][2],self)\n",
    "        temp4 = QtWidgets.QLabel(df['temperature'][3],self)\n",
    "        temp5 = QtWidgets.QLabel(df['temperature'][4],self)\n",
    "        temp6 = QtWidgets.QLabel(df['temperature'][5],self)\n",
    "        temp7 = QtWidgets.QLabel(df['temperature'][6],self)\n",
    "        temp8 = QtWidgets.QLabel(df['temperature'][7],self)\n",
    "        \n",
    "        sd1 = QtWidgets.QLabel(df['short_desc'][0],self)\n",
    "        sd2 = QtWidgets.QLabel(df['short_desc'][1],self)\n",
    "        sd3 = QtWidgets.QLabel(df['short_desc'][2],self)\n",
    "        sd4 = QtWidgets.QLabel(df['short_desc'][3],self)\n",
    "        sd5 = QtWidgets.QLabel(df['short_desc'][4],self)\n",
    "        sd6 = QtWidgets.QLabel(df['short_desc'][5],self)\n",
    "        sd7 = QtWidgets.QLabel(df['short_desc'][6],self)\n",
    "        sd8 = QtWidgets.QLabel(df['short_desc'][7],self)\n",
    "        \n",
    "        self.showMaximized()\n",
    "        \n",
    "        \n",
    "if __name__ == \"__main__\":\n",
    "    app = QtWidgets.QApplication(sys.argv) \n",
    "    win_obj = Windows()\n",
    "    sys.exit(app.exec_())"
   ]
  },
  {
   "cell_type": "code",
   "execution_count": null,
   "metadata": {
    "collapsed": true
   },
   "outputs": [],
   "source": []
  }
 ],
 "metadata": {
  "kernelspec": {
   "display_name": "Python 3",
   "language": "python",
   "name": "python3"
  },
  "language_info": {
   "codemirror_mode": {
    "name": "ipython",
    "version": 3
   },
   "file_extension": ".py",
   "mimetype": "text/x-python",
   "name": "python",
   "nbconvert_exporter": "python",
   "pygments_lexer": "ipython3",
   "version": "3.6.2"
  }
 },
 "nbformat": 4,
 "nbformat_minor": 2
}
