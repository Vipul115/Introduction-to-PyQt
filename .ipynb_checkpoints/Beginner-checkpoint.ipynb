{
 "cells": [
  {
   "cell_type": "code",
   "execution_count": 2,
   "metadata": {
    "collapsed": true
   },
   "outputs": [],
   "source": [
    "import sys\n",
    "from PyQt5 import QtWidgets,QtGui\n"
   ]
  },
  {
   "cell_type": "code",
   "execution_count": 3,
   "metadata": {},
   "outputs": [
    {
     "ename": "SystemExit",
     "evalue": "0",
     "output_type": "error",
     "traceback": [
      "An exception has occurred, use %tb to see the full traceback.\n",
      "\u001b[1;31mSystemExit\u001b[0m\u001b[1;31m:\u001b[0m 0\n"
     ]
    },
    {
     "name": "stderr",
     "output_type": "stream",
     "text": [
      "C:\\Anaconda\\lib\\site-packages\\IPython\\core\\interactiveshell.py:2870: UserWarning: To exit: use 'exit', 'quit', or Ctrl-D.\n",
      "  warn(\"To exit: use 'exit', 'quit', or Ctrl-D.\", stacklevel=1)\n"
     ]
    }
   ],
   "source": [
    "class Windows(QtWidgets.QWidget):\n",
    "    def __init__(self):\n",
    "        super().__init__()\n",
    "        self.init_ui()\n",
    "        \n",
    "    def init_ui(self):\n",
    "        \n",
    "        self.setWindowTitle('Weather Forecast')\n",
    "        self.l1 = QtWidgets.QLabel('Good')\n",
    "        self.l2 = QtWidgets.QLabel('Luck')\n",
    "        self.b1 = QtWidgets.QPushButton('Choice 1')\n",
    "        self.b2 = QtWidgets.QPushButton('Choice 2')\n",
    "\n",
    "        h_box = QtWidgets.QHBoxLayout()\n",
    "        h_box.addStretch()\n",
    "        h_box.addWidget(self.b1)\n",
    "        h_box.addWidget(self.b2)\n",
    "        h_box.addStretch()\n",
    "\n",
    "        h1_box = QtWidgets.QHBoxLayout()\n",
    "        h1_box.addStretch()\n",
    "        h1_box.addWidget(self.l1)\n",
    "        h1_box.addWidget(self.l2)\n",
    "        h1_box.addStretch()\n",
    "\n",
    "        v_box = QtWidgets.QVBoxLayout()\n",
    "        v_box.addLayout(h_box)\n",
    "        v_box.addLayout(h1_box)\n",
    "        self.setLayout(v_box)\n",
    "\n",
    "        self.b1.clicked.connect(self.b1_click)\n",
    "        self.b2.clicked.connect(self.b2_click)\n",
    "        self.show()\n",
    "        self.setGeometry(100,100,200,200)\n",
    "    def b1_click(self):\n",
    "        self.b1.setText('Correct choice!')\n",
    "    def b2_click(self):\n",
    "        self.b2.setText('Wrong choice')\n",
    "\n",
    "app = QtWidgets.QApplication(sys.argv) \n",
    "a_windows = Windows()\n",
    "sys.exit(app.exec_())\n"
   ]
  },
  {
   "cell_type": "code",
   "execution_count": null,
   "metadata": {
    "collapsed": true
   },
   "outputs": [],
   "source": []
  }
 ],
 "metadata": {
  "kernelspec": {
   "display_name": "Python 3",
   "language": "python",
   "name": "python3"
  },
  "language_info": {
   "codemirror_mode": {
    "name": "ipython",
    "version": 3
   },
   "file_extension": ".py",
   "mimetype": "text/x-python",
   "name": "python",
   "nbconvert_exporter": "python",
   "pygments_lexer": "ipython3",
   "version": "3.6.2"
  }
 },
 "nbformat": 4,
 "nbformat_minor": 2
}
